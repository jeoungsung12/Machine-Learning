{
  "nbformat": 4,
  "nbformat_minor": 0,
  "metadata": {
    "colab": {
      "provenance": []
    },
    "kernelspec": {
      "name": "python3",
      "display_name": "Python 3"
    },
    "language_info": {
      "name": "python"
    }
  },
  "cells": [
    {
      "cell_type": "code",
      "execution_count": 30,
      "metadata": {
        "colab": {
          "base_uri": "https://localhost:8080/"
        },
        "id": "ErRkUdsR5DK-",
        "outputId": "fd284e57-70ab-479b-d936-1c20ed1333d9"
      },
      "outputs": [
        {
          "output_type": "stream",
          "name": "stdout",
          "text": [
            "0.21576155433883565\n"
          ]
        }
      ],
      "source": [
        "from sklearn.metrics import mutual_info_score\n",
        "\n",
        "labels_true = [0, 0, 1, 1]\n",
        "labels_pred = [0, 1, 1, 1]\n",
        "\n",
        "print(mutual_info_score(labels_true, labels_pred))"
      ]
    },
    {
      "cell_type": "code",
      "source": [
        "mutual_info_score(labels_pred, labels_true)"
      ],
      "metadata": {
        "colab": {
          "base_uri": "https://localhost:8080/"
        },
        "id": "vB4vKzLA7Qgi",
        "outputId": "ca14ad64-5725-4dcb-f441-110960414e40"
      },
      "execution_count": 31,
      "outputs": [
        {
          "output_type": "execute_result",
          "data": {
            "text/plain": [
              "0.21576155433883565"
            ]
          },
          "metadata": {},
          "execution_count": 31
        }
      ]
    },
    {
      "cell_type": "code",
      "source": [
        "labels_true = [0, 1, 0, 1]\n",
        "labels_pred = [1, 1, 1, 1]\n",
        "\n",
        "mutual_info_score(labels_true, labels_pred)"
      ],
      "metadata": {
        "colab": {
          "base_uri": "https://localhost:8080/"
        },
        "id": "lE8FB3Cx7QrI",
        "outputId": "c7bb9f09-5f6e-4441-ef93-a27a6f86ea7c"
      },
      "execution_count": 32,
      "outputs": [
        {
          "output_type": "execute_result",
          "data": {
            "text/plain": [
              "0.0"
            ]
          },
          "metadata": {},
          "execution_count": 32
        }
      ]
    },
    {
      "cell_type": "code",
      "source": [
        "labels_true = [0, 0, 1, 1]\n",
        "labels_pred = [0, 0, 1, 1]\n",
        "\n",
        "mutual_info_score(labels_true, labels_pred)"
      ],
      "metadata": {
        "colab": {
          "base_uri": "https://localhost:8080/"
        },
        "id": "npeKt0TP7Q1i",
        "outputId": "70f9dd30-167e-418a-f41f-7501592cbc05"
      },
      "execution_count": 33,
      "outputs": [
        {
          "output_type": "execute_result",
          "data": {
            "text/plain": [
              "0.6931471805599453"
            ]
          },
          "metadata": {},
          "execution_count": 33
        }
      ]
    },
    {
      "cell_type": "code",
      "source": [
        "labels_true = [0, 0, 1, 1, 2, 2]\n",
        "labels_pred = [0, 0, 1, 1, 2, 2]\n",
        "\n",
        "mutual_info_score(labels_true, labels_pred)"
      ],
      "metadata": {
        "colab": {
          "base_uri": "https://localhost:8080/"
        },
        "id": "x4BCDD2A7Q-V",
        "outputId": "25328eb2-24ac-4392-bfc6-3b21aef1b5eb"
      },
      "execution_count": 34,
      "outputs": [
        {
          "output_type": "execute_result",
          "data": {
            "text/plain": [
              "1.0986122886681096"
            ]
          },
          "metadata": {},
          "execution_count": 34
        }
      ]
    },
    {
      "cell_type": "code",
      "source": [
        "from sklearn.metrics import adjusted_mutual_info_score\n",
        "\n",
        "#완벽한 일치 클러스터 - 두 개의 클러스터\n",
        "labels_true = [0, 0, 1, 1]\n",
        "labels_pred = [0, 0, 1, 1]\n",
        "#완벽한 일치 클러스터 - 세 개의 클러스터\n",
        "labels_true2 = [0, 0, 1, 1, 2, 2]\n",
        "labels_pred2 = [0, 0, 1, 1, 2, 2]\n",
        "#완벽한 일치 클러스터 - 네 개의 클러스터\n",
        "labels_true3 = [0, 0, 1, 1, 2, 2, 3, 3]\n",
        "labels_pred3 = [0, 0, 1, 1, 2, 2, 3, 3]\n",
        "\n",
        "print(adjusted_mutual_info_score(labels_true, labels_pred))\n",
        "print(adjusted_mutual_info_score(labels_true2, labels_pred2))\n",
        "print(adjusted_mutual_info_score(labels_true3, labels_pred3))"
      ],
      "metadata": {
        "colab": {
          "base_uri": "https://localhost:8080/"
        },
        "id": "YnEqlevz7RHV",
        "outputId": "4aa3c067-2e77-4728-b1e4-4efe021b56e1"
      },
      "execution_count": 38,
      "outputs": [
        {
          "output_type": "stream",
          "name": "stdout",
          "text": [
            "1.0\n",
            "1.0\n",
            "1.0\n"
          ]
        }
      ]
    }
  ]
}