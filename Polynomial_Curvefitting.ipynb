{
  "nbformat": 4,
  "nbformat_minor": 0,
  "metadata": {
    "colab": {
      "private_outputs": true,
      "provenance": []
    },
    "kernelspec": {
      "name": "python3",
      "display_name": "Python 3"
    },
    "language_info": {
      "name": "python"
    }
  },
  "cells": [
    {
      "cell_type": "code",
      "execution_count": null,
      "metadata": {
        "id": "b-VoN6p8_RZI"
      },
      "outputs": [],
      "source": [
        "import matplotlib.pyplot as plt\n",
        "import numpy as np"
      ]
    },
    {
      "cell_type": "code",
      "source": [
        "x = [i for i in range(0,8)]\n",
        "\n",
        "t1 = [49.88, 75.74, 87.11, 96.49, 103.07, 109.58, 115.91, 122.05]\n",
        "t2 = [127.87, 133.41, 138.84, 144.70, 151.42]\n",
        "t_total = t1 + t2\n",
        "plt.plot(x, t1, marker='o')\n",
        "plt.xlabel('Age (x)')\n",
        "plt.ylabel('Height (t)')\n",
        "plt.grid()"
      ],
      "metadata": {
        "id": "1kicvNB-A5mz"
      },
      "execution_count": null,
      "outputs": []
    },
    {
      "cell_type": "code",
      "source": [
        "N = 8 #number of data samples\n",
        "M = [i for i in range(1,8)]\n",
        "train_Error = []\n",
        "test_Error = []\n",
        "for k in range(len(M)):\n",
        "\n",
        "  A = np.zeros((M[k]+1, M[k]+1))\n",
        "  tau = np.zeros((M[k]+1, 1))\n",
        "\n",
        "\n",
        "  for i in range(0, M[k]+1):\n",
        "    for j in range(0, M[k]+1):\n",
        "      temp_sum_A = 0\n",
        "      for n in range(0, N):\n",
        "        temp_sum_A += x[n]**(i+j)\n",
        "      A[i][j] = temp_sum_A\n",
        "\n",
        "  for i in range(0, M[k]+1):\n",
        "    temp_sum_tau = 0\n",
        "    for n in range(0, N):\n",
        "      temp_sum_tau += (x[n] ** i) * t1[n]\n",
        "    tau[i] = temp_sum_tau\n",
        "\n",
        "  w = np.linalg.solve(A, tau)\n",
        "  z = np.polyfit(x,t1,M[k])\n",
        "\n",
        "  x_pred = np.array([i for i in range(0,13)])\n",
        "  y_pred = np.zeros(13)\n",
        "  for i, val in enumerate(x_pred):\n",
        "    for j in range(0, M[k]+1):\n",
        "      y_pred[i] += w[j] * (val ** (j))\n",
        "\n",
        "  \n",
        "  train_y_pred = y_pred[0:8]\n",
        "  test_y_pred = y_pred[8:]\n",
        "\n",
        "  train_error = train_y_pred - t1\n",
        "  loss = 0\n",
        "  for i in train_error:\n",
        "    loss += i*i\n",
        "  loss = loss/2\n",
        "  train_Error.append(loss)\n",
        "\n",
        "  test_error = test_y_pred - t2\n",
        "  loss = 0\n",
        "  for i in test_error:\n",
        "    loss += i*i\n",
        "  loss = loss/2\n",
        "  test_Error.append(loss)\n",
        "\n",
        "print(train_Error)\n",
        "print(test_Error)"
      ],
      "metadata": {
        "id": "A2R1lA4-JVok"
      },
      "execution_count": null,
      "outputs": []
    },
    {
      "cell_type": "code",
      "source": [
        "plt.plot(M, train_Error, marker='o', label = 'Train Error')\n",
        "#plt.plot(x_pred, y_pred, marker='*', label = 'Prediction')\n",
        "plt.xlabel(\"M\")\n",
        "plt.ylabel(\"Sym-of-Squares Error\")\n",
        "plt.grid()\n",
        "plt.legend()\n",
        "plt.show()"
      ],
      "metadata": {
        "id": "ktekHHdILAub"
      },
      "execution_count": null,
      "outputs": []
    },
    {
      "cell_type": "code",
      "source": [
        "plt.plot(M, test_Error, marker='x', label = 'Test Error')\n",
        "#plt.plot(x_pred, y_pred, marker='*', label = 'Prediction')\n",
        "plt.xlabel(\"M\")\n",
        "plt.ylabel(\"Sym-of-Squares Error\")\n",
        "plt.grid()\n",
        "plt.legend()\n",
        "plt.show()"
      ],
      "metadata": {
        "id": "KcOvWaF1BJh9"
      },
      "execution_count": null,
      "outputs": []
    },
    {
      "cell_type": "code",
      "source": [],
      "metadata": {
        "id": "SR8fy_p6P0dR"
      },
      "execution_count": null,
      "outputs": []
    }
  ]
}