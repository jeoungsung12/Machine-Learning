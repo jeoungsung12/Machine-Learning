{
  "nbformat": 4,
  "nbformat_minor": 0,
  "metadata": {
    "colab": {
      "private_outputs": true,
      "provenance": []
    },
    "kernelspec": {
      "name": "python3",
      "display_name": "Python 3"
    },
    "language_info": {
      "name": "python"
    }
  },
  "cells": [
    {
      "cell_type": "code",
      "execution_count": null,
      "metadata": {
        "id": "8o9ILxsCPh06"
      },
      "outputs": [],
      "source": [
        "import pandas as pd\n",
        "import numpy as np\n",
        "import matplotlib.pyplot as plt\n",
        "# Load housing data from URL to a DataFrame\n",
        "url = \"https://raw.githubusercontent.com/rasbt/python-machine-learning-book-3rd-edition/master/ch10/housing.data.txt\"\n",
        "df = pd.read_csv(filepath_or_buffer=url, header=None, sep=\"\\s+\")\n",
        "# Assign the column names\n",
        "df.columns = ['CRIM', 'ZN', 'INDUS', 'CHAS', 'NOX', 'RM', 'AGE', 'DIS', 'RAD', 'TAX', 'PTRATIO', 'B', 'LSTAT', 'MEDV']\n",
        "# Have a look at the data shape and entries\n",
        "# Showing the first 5 rows with .head()\n",
        "# Remove .head() to show all the entries\n",
        "print(df.shape)\n",
        "df.head()\n",
        "\n"
      ]
    },
    {
      "cell_type": "code",
      "source": [
        "X_multi = df[['RM', 'LSTAT' ]].values\n",
        "y = df['MEDV'].values"
      ],
      "metadata": {
        "id": "1U96xVN6RiY2"
      },
      "execution_count": null,
      "outputs": []
    },
    {
      "cell_type": "code",
      "source": [
        "from sklearn.model_selection import train_test_split\n",
        "X_train, X_test, y_train, y_test = train_test_split(X_multi,y, test_size=0.3, random_state=55)\n",
        "print(\"X_train.shape: \", X_train.shape)\n",
        "print(\"y_train.shape: \", y_train.shape)\n",
        "print(\"X_test.shape: \", X_test.shape)\n",
        "print(\"y_test.shape: \", y_test.shape)\n"
      ],
      "metadata": {
        "id": "1TKHombfRp5O"
      },
      "execution_count": null,
      "outputs": []
    },
    {
      "cell_type": "code",
      "source": [
        "from sklearn.preprocessing import StandardScaler\n",
        "sc_x = StandardScaler()\n",
        "sc_y = StandardScaler()\n",
        "sc_x.fit(X_train)\n",
        "X_train_sc = sc_x.transform(X_train)\n",
        "X_test_sc = sc_x.transform(X_test)\n",
        "\n",
        "sc_y.fit(y_train[:, np.newaxis])\n",
        "y_train_sc = sc_y.transform(y_train[:, np.newaxis])\n",
        "y_test_sc = sc_y.transform(y_test[:, np.newaxis])\n",
        "\n",
        "print(\"X_train_sc.shape: \", X_train_sc.shape)\n",
        "print(\"y_train_sc.shape: \", y_train_sc.shape)\n",
        "print(\"X_test_sc.shape: \", X_test_sc.shape)\n",
        "print(\"y_test_sc.shape: \", y_test_sc.shape)\n"
      ],
      "metadata": {
        "id": "peTfR_H7Ri7C"
      },
      "execution_count": null,
      "outputs": []
    },
    {
      "cell_type": "code",
      "source": [
        "from sklearn.kernel_approximation import RBFSampler\n",
        "rbf_feature = RBFSampler(gamma=0.5, random_state=10)\n",
        "X_train_sc_feature = rbf_feature.fit_transform(X_train_sc)\n",
        "X_test_sc_feature = rbf_feature.fit_transform(X_test_sc)\n",
        "\n",
        "print(\"X_train_sc_feature.shape: \", X_train_sc_feature.shape)\n",
        "print(\"X_test_sc_feature.shape: \", X_test_sc_feature.shape)"
      ],
      "metadata": {
        "id": "n8knM3PlShOK"
      },
      "execution_count": null,
      "outputs": []
    },
    {
      "cell_type": "code",
      "source": [
        "from sklearn.linear_model import Ridge\n",
        "from sklearn.metrics import mean_squared_error\n",
        "lr = Ridge(alpha=0.5, random_state = 200)\n",
        "lr.fit(X_train_sc_feature, y_train_sc)\n",
        "y_pred = lr.predict(X_test_sc_feature)\n",
        "\n",
        "y_pred = sc_y.inverse_transform(y_pred)\n",
        "print(\"MSE: %.3f\" %(mean_squared_error(y_test, y_pred)))"
      ],
      "metadata": {
        "id": "NhdxV6rITaUY"
      },
      "execution_count": null,
      "outputs": []
    },
    {
      "cell_type": "code",
      "source": [
        "# Data points for visualization\n",
        "# axis is same\n",
        "x_axis = X_multi[:, 1] \n",
        "y_axis = X_multi[:, 0]\n",
        "z_axis = y\n",
        "print(\"x_axis.shape: \", x_axis.shape)\n",
        "print(\"y_axis.shape: \", y_axis.shape)\n",
        "print(\"z_axis.shape: \", z_axis.shape)\n",
        "\n",
        "# Create coordinate matrices for x and y\n",
        "x_pred = np.linspace(x_axis.min(), x_axis.max(), 30)\n",
        "print(\"x_pred.shape: \",x_pred.shape)\n",
        "y_pred = np.linspace(y_axis.min(), y_axis.max(), 30)\n",
        "xx_pred, yy_pred = np.meshgrid(x_pred, y_pred) # create meshgrid of points\n",
        "print(\"xx_pred.shape: \", xx_pred.shape)\n",
        "model_viz = np.array([xx_pred.flatten(), yy_pred.flatten()]).T # model_viz.shape: (900,2)\n",
        "print(\"model_viz.shape: \", model_viz.shape)\n",
        "#model_viz = sc_x.transform(model_viz)\n",
        "model_viz_Quad_2 = rbf_feature.fit_transform(model_viz)  # model_viz_Quad.shape: (900,100)\n",
        "print(\"model_viz_Quad_2.shape: \", model_viz_Quad_2.shape)\n",
        "z_pred = lr.predict(model_viz_Quad_2) # (900,2) -> (900,1)\n",
        "print(\"z_pred.shape: \", z_pred.shape)\n",
        "z_pred = sc_y.inverse_transform(z_pred)\n",
        "fig = plt.figure(figsize=(18, 6))\n",
        "ax1 = fig.add_subplot(131, projection='3d')\n",
        "ax2 = fig.add_subplot(132, projection='3d')\n",
        "ax3 = fig.add_subplot(133, projection='3d')\n",
        "\n",
        "axes = [ax1, ax2, ax3]\n",
        "for ax in axes:\n",
        "  ax.plot(x_axis, y_axis, z_axis, color='green', zorder=15, linestyle='none',marker='o', alpha=0.5)\n",
        "  ax.scatter(xx_pred.flatten(), yy_pred.flatten(), z_pred, facecolor=(0,0,0,0), s=20, edgecolor='skyblue')\n",
        "  ax.set_xlabel('LSTAT', fontsize=10)\n",
        "  ax.set_ylabel('RM', fontsize=10)\n",
        "  ax.set_zlabel('MEDV', fontsize=10)\n",
        "  # ax.locator_params(nbins=4, axis='x')\n",
        "  # ax.locator_params(nbins=5, axis='x')\n",
        "ax1.view_init(elev=70, azim=170)\n",
        "ax2.view_init(elev=30, azim=125)\n",
        "ax3.view_init(elev=5, azim=120)\n",
        "fig.tight_layout()"
      ],
      "metadata": {
        "id": "k3QTc-DagihW"
      },
      "execution_count": null,
      "outputs": []
    },
    {
      "cell_type": "code",
      "source": [],
      "metadata": {
        "id": "1z_C9dHZg2ju"
      },
      "execution_count": null,
      "outputs": []
    }
  ]
}